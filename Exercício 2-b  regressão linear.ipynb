{
 "cells": [
  {
   "cell_type": "markdown",
   "metadata": {},
   "source": [
    "## Exercício prático de regressão linear"
   ]
  },
  {
   "cell_type": "markdown",
   "metadata": {},
   "source": [
    "Instruções: Use o dataset 'datasetCarros.csv' em todos os exercícios."
   ]
  },
  {
   "cell_type": "code",
   "execution_count": 1,
   "metadata": {},
   "outputs": [],
   "source": [
    "import pandas as pd\n",
    "from sklearn.linear_model import LinearRegression\n",
    "from sklearn.model_selection import train_test_split\n",
    "from sklearn.preprocessing import RobustScaler\n",
    "from sklearn.metrics import mean_squared_error\n",
    "from sklearn.metrics import r2_score\n",
    "import numpy as np\n",
    "from scipy import stats"
   ]
  },
  {
   "cell_type": "code",
   "execution_count": 45,
   "metadata": {},
   "outputs": [],
   "source": [
    "dataset = pd.read_csv('datasetCarros.csv')"
   ]
  },
  {
   "cell_type": "code",
   "execution_count": 61,
   "metadata": {},
   "outputs": [
    {
     "name": "stdout",
     "output_type": "stream",
     "text": [
      "<class 'pandas.core.frame.DataFrame'>\n",
      "RangeIndex: 301 entries, 0 to 300\n",
      "Data columns (total 8 columns):\n",
      " #   Column           Non-Null Count  Dtype  \n",
      "---  ------           --------------  -----  \n",
      " 0   Nome             301 non-null    object \n",
      " 1   Ano              301 non-null    int64  \n",
      " 2   PrecoVenda       301 non-null    float64\n",
      " 3   PrecoAtual       301 non-null    float64\n",
      " 4   KmRodado         301 non-null    int64  \n",
      " 5   TipoCombustivel  301 non-null    object \n",
      " 6   Trasmissao       301 non-null    object \n",
      " 7   Owner            301 non-null    int64  \n",
      "dtypes: float64(2), int64(3), object(3)\n",
      "memory usage: 18.9+ KB\n"
     ]
    }
   ],
   "source": [
    "dataset.info()"
   ]
  },
  {
   "cell_type": "markdown",
   "metadata": {},
   "source": [
    "# 1\n",
    "a) Faça um modelo de regressão linear simples utilizando a variável 'KmRodado' para prever a 'PrecoVenda'.<br>\n",
    "\n",
    "b) Calcule o R2 para o modelo criado."
   ]
  },
  {
   "cell_type": "markdown",
   "metadata": {},
   "source": [
    "O r^2 estava muito ruim, portanto, decidi tentar tratar alguns outliers. <br>\n",
    "\n",
    "iniciei calculando o z-score e tirando todas as entradas que tinham z-score > 3"
   ]
  },
  {
   "cell_type": "code",
   "execution_count": 57,
   "metadata": {},
   "outputs": [
    {
     "name": "stdout",
     "output_type": "stream",
     "text": [
      "<class 'pandas.core.frame.DataFrame'>\n",
      "Index: 270 entries, 0 to 300\n",
      "Data columns (total 8 columns):\n",
      " #   Column           Non-Null Count  Dtype  \n",
      "---  ------           --------------  -----  \n",
      " 0   Nome             270 non-null    object \n",
      " 1   Ano              270 non-null    int64  \n",
      " 2   PrecoVenda       270 non-null    float64\n",
      " 3   PrecoAtual       270 non-null    float64\n",
      " 4   KmRodado         270 non-null    int64  \n",
      " 5   TipoCombustivel  270 non-null    object \n",
      " 6   Trasmissao       270 non-null    object \n",
      " 7   Owner            270 non-null    int64  \n",
      "dtypes: float64(2), int64(3), object(3)\n",
      "memory usage: 19.0+ KB\n",
      "None\n"
     ]
    }
   ],
   "source": [
    "numeric_columns = dataset.select_dtypes(include=['number']).columns\n",
    "data_numeric = dataset[numeric_columns]\n",
    "\n",
    "z_scores = stats.zscore(data_numeric)\n",
    "\n",
    "data_cleaned = dataset[(np.abs(z_scores) < 3).all(axis=1)]\n",
    "\n",
    "print(data_cleaned.info())"
   ]
  },
  {
   "cell_type": "markdown",
   "metadata": {},
   "source": [
    "Aqui, ainda estava obtendo resultados muito ruins, então apliquei transformação logarítmica, porém, eu tinha valores que eram 0, então, somei uma pequena constante para poder abordá-los na transformação também."
   ]
  },
  {
   "cell_type": "code",
   "execution_count": 58,
   "metadata": {},
   "outputs": [],
   "source": [
    "data_log = data_cleaned.copy()\n",
    "data_log[numeric_columns] = np.log(data_log[numeric_columns] + 1e-6)"
   ]
  },
  {
   "cell_type": "code",
   "execution_count": 59,
   "metadata": {},
   "outputs": [
    {
     "name": "stdout",
     "output_type": "stream",
     "text": [
      "R2 Score: 0.17700999491191483\n"
     ]
    }
   ],
   "source": [
    "model = LinearRegression()\n",
    "scaler = RobustScaler()\n",
    "\n",
    "X = data_log[['KmRodado']]\n",
    "y = data_log['PrecoVenda']\n",
    "\n",
    "X_train, X_test, y_train, y_test = train_test_split(X, y, test_size=0.2, random_state=42)\n",
    "\n",
    "X_train_scaled = scaler.fit_transform(X_train)\n",
    "X_test_scaled = scaler.transform(X_test)\n",
    "\n",
    "model.fit(X_train_scaled, y_train)\n",
    "\n",
    "y_pred = model.predict(X_test_scaled)\n",
    "\n",
    "r2 = r2_score(y_test, y_pred)\n",
    "print(\"R2 Score:\", r2)"
   ]
  },
  {
   "cell_type": "markdown",
   "metadata": {},
   "source": [
    "# 2\n",
    "a) Separe o dataset em teste (5%) e treino (95%). Use o método 'train_test_split' do sklearn; configure o parâmetro random_state=10. <br>\n",
    "\n",
    "b) Treine um modelo de regressão linear múltipla no dataset de treino utilizando todas as variáveis (exceto 'Nome') para prever a 'PrecoVenda' e exiba os coeficientes do modelo.<br>\n",
    "\n",
    "c) Avalie o modelo encontrado utilizando o dataset de teste. Calcule o R2 e MSE."
   ]
  },
  {
   "cell_type": "code",
   "execution_count": 79,
   "metadata": {},
   "outputs": [],
   "source": [
    "model_m = LinearRegression()\n",
    "\n",
    "X = data_log[['KmRodado', 'Ano', 'PrecoAtual', 'TipoCombustivel', 'Trasmissao', 'Owner']]\n",
    "y = data_log['PrecoVenda']\n",
    "\n",
    "X_encoded = pd.get_dummies(X, drop_first=True)\n",
    "\n",
    "X_train, X_test, y_train, y_test = train_test_split(X_encoded, y, test_size=0.05, random_state=10)\n",
    "\n",
    "X_train_scaled = scaler.fit_transform(X_train)\n",
    "X_test_scaled = scaler.transform(X_test)\n",
    "\n",
    "model_m.fit(X_train_scaled, y_train)\n",
    "\n",
    "y_pred = model.predict(X_test_scaled)"
   ]
  },
  {
   "cell_type": "code",
   "execution_count": 83,
   "metadata": {},
   "outputs": [
    {
     "name": "stdout",
     "output_type": "stream",
     "text": [
      "                 Variável   Coeficiente\n",
      "0                KmRodado -4.665945e-02\n",
      "1                     Ano  3.273386e-01\n",
      "2              PrecoAtual  1.853272e+00\n",
      "3                   Owner  1.110223e-16\n",
      "4  TipoCombustivel_Diesel  1.657235e-01\n",
      "5  TipoCombustivel_Petrol  4.713279e-02\n",
      "6       Trasmissao_Manual  2.568524e-02\n",
      "Intercepto: 1.5084874649910196\n"
     ]
    }
   ],
   "source": [
    "coef = pd.DataFrame({'Variável': X_encoded.columns, 'Coeficiente': model_m.coef_})\n",
    "print(coef)\n",
    "intercept = model_m.intercept_\n",
    "print(\"Intercepto:\", intercept)"
   ]
  },
  {
   "cell_type": "code",
   "execution_count": 84,
   "metadata": {},
   "outputs": [
    {
     "name": "stdout",
     "output_type": "stream",
     "text": [
      "R2 Score: 0.9809085886449582\n",
      "MSE: 0.035096428539332786\n"
     ]
    }
   ],
   "source": [
    "r2 = r2_score(y_test, y_pred)\n",
    "print(\"R2 Score:\", r2)\n",
    "\n",
    "mse = mean_squared_error(y_test, y_pred)\n",
    "print(\"MSE:\", mse)"
   ]
  }
 ],
 "metadata": {
  "kernelspec": {
   "display_name": "Python 3",
   "language": "python",
   "name": "python3"
  },
  "language_info": {
   "codemirror_mode": {
    "name": "ipython",
    "version": 3
   },
   "file_extension": ".py",
   "mimetype": "text/x-python",
   "name": "python",
   "nbconvert_exporter": "python",
   "pygments_lexer": "ipython3",
   "version": "3.12.1"
  }
 },
 "nbformat": 4,
 "nbformat_minor": 4
}
